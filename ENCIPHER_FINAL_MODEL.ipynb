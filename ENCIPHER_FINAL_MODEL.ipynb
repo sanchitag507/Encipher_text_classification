{
  "nbformat": 4,
  "nbformat_minor": 0,
  "metadata": {
    "colab": {
      "name": "ENCIPHER_FINAL_MODEL",
      "provenance": [],
      "authorship_tag": "ABX9TyMgw4e8nmEsqDs5KeRlSskO",
      "include_colab_link": true
    },
    "kernelspec": {
      "name": "python3",
      "display_name": "Python 3"
    },
    "language_info": {
      "name": "python"
    }
  },
  "cells": [
    {
      "cell_type": "markdown",
      "metadata": {
        "id": "view-in-github",
        "colab_type": "text"
      },
      "source": [
        "<a href=\"https://colab.research.google.com/github/sanchitag507/Encipher_text_classification/blob/main/ENCIPHER_FINAL_MODEL.ipynb\" target=\"_parent\"><img src=\"https://colab.research.google.com/assets/colab-badge.svg\" alt=\"Open In Colab\"/></a>"
      ]
    },
    {
      "cell_type": "markdown",
      "source": [
        "**Credit Agreements are legal contracts agreed and signed between different parties involved in\n",
        "transaction, some are Borrower who borrows money, Lenders are one or more parties who come \n",
        "together to fund the borrower’s request, Agents are legal bodies who mediate this transaction.\n",
        "Provided below are some of the legal clauses extracted from Credit Agreements. It also provides \n",
        "what type of legal clause they belong to. Your mission is to come up with a model that will help \n",
        "classify the given passages into it’s legal clause type.** "
      ],
      "metadata": {
        "id": "nG3HLF_plSj7"
      }
    },
    {
      "cell_type": "code",
      "source": [
        "#import basic libraries\n",
        "import pandas as pd\n",
        "import numpy as np\n",
        "import matplotlib.pyplot as plt\n",
        "import seaborn as sns"
      ],
      "metadata": {
        "id": "Jl7Uepl3lj_S"
      },
      "execution_count": null,
      "outputs": []
    },
    {
      "cell_type": "code",
      "source": [
        "path=input('Enter the path to dataset:')"
      ],
      "metadata": {
        "colab": {
          "base_uri": "https://localhost:8080/"
        },
        "id": "Deco8PuelsYi",
        "outputId": "528466d5-b164-4865-a957-ca9700bd7fcd"
      },
      "execution_count": null,
      "outputs": [
        {
          "name": "stdout",
          "output_type": "stream",
          "text": [
            "Enter the path to dataset/content/dataset.csv\n"
          ]
        }
      ]
    },
    {
      "cell_type": "code",
      "source": [
        "df = pd.read_csv(path)#read the dataset csv file"
      ],
      "metadata": {
        "id": "yW_lfZqOLHor"
      },
      "execution_count": null,
      "outputs": []
    },
    {
      "cell_type": "code",
      "source": [
        "pathoftest=input('Enter the path of test dataset:')"
      ],
      "metadata": {
        "colab": {
          "base_uri": "https://localhost:8080/"
        },
        "id": "pSfpjncvmCCr",
        "outputId": "1b9b10ff-a7b5-4182-c014-25b2c6d80df4"
      },
      "execution_count": null,
      "outputs": [
        {
          "name": "stdout",
          "output_type": "stream",
          "text": [
            "Enter the path of test dataset:/content/test_dataset.csv\n"
          ]
        }
      ]
    },
    {
      "cell_type": "code",
      "source": [
        "test_set=pd.read_csv(pathoftest)# read the test data set file"
      ],
      "metadata": {
        "id": "dtJq_VsymMQ1"
      },
      "execution_count": null,
      "outputs": []
    },
    {
      "cell_type": "code",
      "source": [
        "#detects missing values and remove them\n",
        "df = df[pd.notnull(df['Class'])]"
      ],
      "metadata": {
        "id": "svOpsalmmUpW"
      },
      "execution_count": null,
      "outputs": []
    },
    {
      "cell_type": "code",
      "source": [
        "#print dataset\n",
        "print(df.head(26))"
      ],
      "metadata": {
        "colab": {
          "base_uri": "https://localhost:8080/"
        },
        "id": "e9kYuDz1mfZs",
        "outputId": "f5094c17-b72d-4859-8b46-19cf6e0049af"
      },
      "execution_count": null,
      "outputs": [
        {
          "output_type": "stream",
          "name": "stdout",
          "text": [
            "                Class                                             clause\n",
            "0            Preamble  This CREDIT AGREEMENT is entered into as of No...\n",
            "1            Preamble  This agreement is dated 22 December 2014 and m...\n",
            "2       Governing Law  This Agreement and shall be governed by and in...\n",
            "3       Governing Law  The choice of South African law as the governi...\n",
            "4       Governing Law  This agreement and other loan documents shall ...\n",
            "5               Other  Eligible receivables are not subject to any li...\n",
            "6               Other  “Acceptance Condition” means the condition wit...\n",
            "7     Indemnification  Borrowers will indemnify each Lender against a...\n",
            "8     Indemnification  The Borrower shall indemnify all parties, and ...\n",
            "9     Indemnification  Administrative Agent shall be entitled to reim...\n",
            "10    Indemnification  Syndication Agent shall be entitled to reimbur...\n",
            "11  Lender Defaulting  Defaulting Lender’s right to approve or disapp...\n",
            "12  Lender Defaulting  Lender during the defaulting Period with respe...\n",
            "13           Preamble  This TERM LOAN AGREEMENT, dated as of April 24...\n",
            "14              Other  “Applicable Rate” means, the following percent...\n",
            "15      Governing Law  This Agreement shall be governed by the laws o...\n",
            "16    Indemnification  The Lenders agree to indemnify the Administrat...\n",
            "17           Preamble  This CREDIT AGREEMENT is entered into as of De...\n",
            "18      Governing Law  THIS AGREEMENT AND THE OTHER LOAN DOCUMENTS AN...\n",
            "19    Indemnification  The Loan Parties shall indemnify the Administr...\n",
            "20           Preamble  This CREDIT AGREEMENT is made and entered into...\n",
            "21  Lender Defaulting  Any Lender defaulting, as reasonably determine...\n",
            "22  Lender Defaulting  Lender shall be deemed to be a Defaulting Lend...\n",
            "23  Lender Defaulting  Defaulting Lender’s right to approve or disapp...\n",
            "24              Other  “Disinterested Director” shall mean, with resp...\n",
            "25              Other  The Borrower and certain lenders and agents ar...\n"
          ]
        }
      ]
    },
    {
      "cell_type": "code",
      "source": [
        "#print total words in clauses\n",
        "print(df['clause'].apply(lambda x: len(x.split(' '))).sum())\n",
        "unq_label=df.Class.unique()\n",
        "num_label=len(unq_label) #total no of unique labels\n",
        "print(unq_label)"
      ],
      "metadata": {
        "colab": {
          "base_uri": "https://localhost:8080/"
        },
        "id": "SKtdSU7nmiFs",
        "outputId": "734443a0-ff81-4398-f646-b0407ddcadf6"
      },
      "execution_count": null,
      "outputs": [
        {
          "output_type": "stream",
          "name": "stdout",
          "text": [
            "974\n",
            "['Preamble' 'Governing Law' 'Other' 'Indemnification' 'Lender Defaulting']\n"
          ]
        }
      ]
    },
    {
      "cell_type": "code",
      "source": [
        "plt.figure(figsize=(10,4))\n",
        "df.Class.value_counts().plot(kind='bar') # plot the frequency curve"
      ],
      "metadata": {
        "colab": {
          "base_uri": "https://localhost:8080/",
          "height": 362
        },
        "id": "EdZx_sDxmlxx",
        "outputId": "8dad2c36-df21-4544-d902-616622310799"
      },
      "execution_count": null,
      "outputs": [
        {
          "output_type": "execute_result",
          "data": {
            "text/plain": [
              "<matplotlib.axes._subplots.AxesSubplot at 0x7efdbdde55d0>"
            ]
          },
          "metadata": {},
          "execution_count": 10
        },
        {
          "output_type": "display_data",
          "data": {
            "image/png": "[encoded data removed]",
            "text/plain": [
              "<Figure size 720x288 with 1 Axes>"
            ]
          },
          "metadata": {
            "needs_background": "light"
          }
        }
      ]
    },
    {
      "cell_type": "markdown",
      "source": [
        "# Pre Processing"
      ],
      "metadata": {
        "id": "vygKMJRmemDV"
      }
    },
    {
      "cell_type": "code",
      "source": [
        "import nltk\n",
        "from nltk.corpus import stopwords\n",
        "nltk.download('stopwords')\n",
        "nltk.download('punkt')\n",
        "nltk.download('wordnet')\n",
        "from nltk.stem import WordNetLemmatizer"
      ],
      "metadata": {
        "colab": {
          "base_uri": "https://localhost:8080/"
        },
        "id": "t8F4SrcgmtHC",
        "outputId": "48fa8a02-d55f-4bfc-8095-a535a066170e"
      },
      "execution_count": null,
      "outputs": [
        {
          "output_type": "stream",
          "name": "stdout",
          "text": [
            "[nltk_data] Downloading package stopwords to /root/nltk_data...\n",
            "[nltk_data]   Unzipping corpora/stopwords.zip.\n",
            "[nltk_data] Downloading package punkt to /root/nltk_data...\n",
            "[nltk_data]   Unzipping tokenizers/punkt.zip.\n",
            "[nltk_data] Downloading package wordnet to /root/nltk_data...\n",
            "[nltk_data]   Unzipping corpora/wordnet.zip.\n"
          ]
        }
      ]
    },
    {
      "cell_type": "code",
      "source": [
        "from bs4 import BeautifulSoup#Beautiful Soup is a Python package for parsing HTML and XML documents."
      ],
      "metadata": {
        "id": "NeTorW6Hm3YG"
      },
      "execution_count": null,
      "outputs": []
    },
    {
      "cell_type": "code",
      "source": [
        "import re"
      ],
      "metadata": {
        "id": "pokBLQtim6Ng"
      },
      "execution_count": null,
      "outputs": []
    },
    {
      "cell_type": "code",
      "source": [
        "REPLACE_BY_SPACE = re.compile('[/(){}\\[\\]\\|@,;]')\n",
        "BAD_SYMBOLS = re.compile('[^0-9a-z #+_]')\n",
        "STOPWORDS = set(stopwords.words('english'))\n",
        "Lemma=WordNetLemmatizer()"
      ],
      "metadata": {
        "id": "aPJ5ucdfnEw0"
      },
      "execution_count": null,
      "outputs": []
    },
    {
      "cell_type": "code",
      "source": [
        "def text_cleaning(txt):\n",
        "  txt = BeautifulSoup(txt, \"lxml\").text # HTML decoding\n",
        "  txt=txt.lower() #de capitalize\n",
        "  txt = REPLACE_BY_SPACE.sub(' ', txt)\n",
        "  txt = BAD_SYMBOLS.sub(' ', txt)   #remove bad words\n",
        "  txt = ' '.join(word for word in txt.split() if word not in STOPWORDS)   #remove stopwords\n",
        "  txt = ' '.join(Lemma.lemmatize(word) for word in txt.split())  #Lemmatization\n",
        "  return txt\n",
        "df['clause'] = df['clause'].apply(text_cleaning)"
      ],
      "metadata": {
        "id": "_LFiBQ3HnHIf"
      },
      "execution_count": null,
      "outputs": []
    },
    {
      "cell_type": "code",
      "source": [
        "print(df)"
      ],
      "metadata": {
        "colab": {
          "base_uri": "https://localhost:8080/"
        },
        "id": "VaUQ1a8LnKBw",
        "outputId": "a57a211f-c2d3-4f7d-fb84-b5535f5b3dcf"
      },
      "execution_count": null,
      "outputs": [
        {
          "output_type": "stream",
          "name": "stdout",
          "text": [
            "                Class                                             clause\n",
            "0            Preamble  credit agreement entered november 23 2010 amon...\n",
            "1            Preamble  agreement dated 22 december 2014 made party xy...\n",
            "2       Governing Law  agreement shall governed interpreted accordanc...\n",
            "3       Governing Law  choice south african law governing law finance...\n",
            "4       Governing Law  agreement loan document shall governed adheren...\n",
            "5               Other  eligible receivables subject limitation assign...\n",
            "6               Other  acceptance condition mean condition respect nu...\n",
            "7     Indemnification  borrower indemnify lender loss expense may sus...\n",
            "8     Indemnification  borrower shall indemnify party related party f...\n",
            "9     Indemnification  administrative agent shall entitled reimbursem...\n",
            "10    Indemnification  syndication agent shall entitled reimbursement...\n",
            "11  Lender Defaulting  defaulting lender right approve disapprove ame...\n",
            "12  Lender Defaulting  lender defaulting period respect defaulting le...\n",
            "13           Preamble  term loan agreement dated april 24 2020 among ...\n",
            "14              Other  applicable rate mean following percentage per ...\n",
            "15      Governing Law  agreement shall governed law state new york te...\n",
            "16    Indemnification  lender agree indemnify administrative agent co...\n",
            "17           Preamble  credit agreement entered december 11 2016 amon...\n",
            "18      Governing Law  agreement loan document claim controversy disp...\n",
            "19    Indemnification  loan party shall indemnify administrative agen...\n",
            "20           Preamble  credit agreement made entered march 6 2018 amo...\n",
            "21  Lender Defaulting  lender defaulting reasonably determined admini...\n",
            "22  Lender Defaulting  lender shall deemed defaulting lender date est...\n",
            "23  Lender Defaulting  defaulting lender right approve disapprove ame...\n",
            "24              Other  disinterested director shall mean respect pers...\n",
            "25              Other  borrower certain lender agent party credit agr...\n"
          ]
        }
      ]
    },
    {
      "cell_type": "markdown",
      "source": [
        "# Feature Engineering"
      ],
      "metadata": {
        "id": "jDfvhZ7Ig_cg"
      }
    },
    {
      "cell_type": "code",
      "source": [
        "from sklearn.model_selection import train_test_split\n",
        "from sklearn.feature_extraction.text import CountVectorizer, TfidfVectorizer\n",
        "from sklearn.metrics import accuracy_score, confusion_matrix\n",
        "from sklearn.metrics import classification_report\n",
        "from sklearn.pipeline import Pipeline\n",
        "from sklearn.metrics import precision_score, recall_score, f1_score\n",
        "from sklearn.linear_model import LogisticRegression"
      ],
      "metadata": {
        "id": "DFVTbvDXnLRa"
      },
      "execution_count": null,
      "outputs": []
    },
    {
      "cell_type": "code",
      "source": [
        "#Spliting the dataset into test and train\n",
        "X = df.clause\n",
        "y = df.Class\n",
        "X_train, X_test, y_train, y_test = train_test_split(X, y, test_size=0.2, shuffle = True, random_state = 42)"
      ],
      "metadata": {
        "id": "pNlKxchInV2q"
      },
      "execution_count": null,
      "outputs": []
    },
    {
      "cell_type": "code",
      "source": [
        "print(y_test)"
      ],
      "metadata": {
        "colab": {
          "base_uri": "https://localhost:8080/"
        },
        "id": "VDTX7TLhnYX8",
        "outputId": "bc7267a3-123a-40ca-cb2a-08babe6511ab"
      },
      "execution_count": null,
      "outputs": [
        {
          "output_type": "stream",
          "name": "stdout",
          "text": [
            "8       Indemnification\n",
            "16      Indemnification\n",
            "0              Preamble\n",
            "24                Other\n",
            "11    Lender Defaulting\n",
            "9       Indemnification\n",
            "Name: Class, dtype: object\n"
          ]
        }
      ]
    },
    {
      "cell_type": "code",
      "source": [
        "import gensim  #Gensim is an open-source library for unsupervised topic modeling and natural language processing, using modern statistical machine learning."
      ],
      "metadata": {
        "id": "0gDlTsFlncQ1"
      },
      "execution_count": null,
      "outputs": []
    },
    {
      "cell_type": "markdown",
      "source": [
        "**doc2vec with logistic regression**\n",
        "\n",
        "\n",
        "> Doc2vec is an NLP tool for representing documents as a vector and is a generalizing of the word2vec method\n",
        "\n",
        "\n",
        "> Numeric representation of text documents is a challenging task in machine learning. There are simplistic method like bag of words (BOW), but outcomes will be mostly mediocre, since BOW loses many subtleties of a possible good representation, e.g consideration of word ordering.\n",
        "\n",
        "\n",
        "> The goal of doc2vec is to create a numeric representation of a document, regardless of its length. So instead of using just words to predict the next word, we also added another feature vector, which is document-unique.\n",
        "So, when training the word vectors W, the document vector D is trained as well, and in the end of training, it holds a numeric representation of the document.\n",
        "\n",
        "\n",
        "> While the word vectors represent the concept of a word, the document vector intends to represent the concept of a document. Two algorithms are- “distributed memory” (DM) and “distributed bag of words” (DBOW)\n",
        "\n",
        "\n",
        "\n",
        "\n",
        "\n",
        "\n",
        "\n"
      ],
      "metadata": {
        "id": "9-CsRYkEffsc"
      }
    },
    {
      "cell_type": "code",
      "source": [
        "from tqdm import tqdm\n",
        "tqdm.pandas(desc=\"progress-bar\")\n",
        "from gensim.models import Doc2Vec\n",
        "from sklearn import utils\n",
        "from gensim.models.doc2vec import TaggedDocument\n",
        "\n",
        "\n",
        "#we tag every clause with its Class\n",
        "def label_sentences(corpus, label_type):\n",
        "    labeled = []\n",
        "    for i, v in enumerate(corpus):\n",
        "        label = label_type + '_' + str(i)\n",
        "        labeled.append(TaggedDocument(v.split(), [label]))\n",
        "    return labeled\n",
        "\n",
        "X_train, X_test, y_train, y_test = train_test_split(df.clause, df.Class, random_state=0, test_size=0.2)#split data into train and test\n",
        "X_train = label_sentences(X_train, 'Train')\n",
        "print(X_test)\n",
        "X_test = label_sentences(X_test, 'Test')\n",
        "print(X_test)\n",
        "all_data = X_train + X_test"
      ],
      "metadata": {
        "id": "7MqWFPLIsPmQ",
        "colab": {
          "base_uri": "https://localhost:8080/"
        },
        "outputId": "1eafa15a-8f46-4d3f-b255-e416d23303f6"
      },
      "execution_count": null,
      "outputs": [
        {
          "output_type": "stream",
          "name": "stdout",
          "text": [
            "2     agreement shall governed interpreted accordanc...\n",
            "20    credit agreement made entered march 6 2018 amo...\n",
            "14    applicable rate mean following percentage per ...\n",
            "17    credit agreement entered december 11 2016 amon...\n",
            "5     eligible receivables subject limitation assign...\n",
            "11    defaulting lender right approve disapprove ame...\n",
            "Name: clause, dtype: object\n",
            "[TaggedDocument(words=['agreement', 'shall', 'governed', 'interpreted', 'accordance', 'law', 'state', 'new', 'york'], tags=['Test_0']), TaggedDocument(words=['credit', 'agreement', 'made', 'entered', 'march', '6', '2018', 'among', 'xyz', 'corp', 'wisconsin', 'corporation', 'borrower', 'ssb', 'bank', 'usa', 'capacity', 'collateral', 'agent', 'bsb', 'bank', 'plc', 'capacity', 'administrative', 'agent', 'behalf', 'lender'], tags=['Test_1']), TaggedDocument(words=['applicable', 'rate', 'mean', 'following', 'percentage', 'per', 'annum', 'based', 'upon', 'consolidated', 'leverage', 'ratio', 'set', 'forth', 'recent', 'compliance', 'certi', 'cate', 'received', 'administrative', 'agent'], tags=['Test_2']), TaggedDocument(words=['credit', 'agreement', 'entered', 'december', '11', '2016', 'among', 'td', 'technology', 'incorporated', 'delaware', 'corporation', 'borrower', 'guarantor', 'de', 'ned', 'herein', 'lender', 'de', 'ned', 'herein', 'bank', 'ric0', 'n', 'administrative', 'agent'], tags=['Test_3']), TaggedDocument(words=['eligible', 'receivables', 'subject', 'limitation', 'assignment', 'restriction', 'would', 'local', 'governing', 'law', 'contract', 'creating', 'receivable', 'effect', 'restricting', 'assignment', 'way', 'security', 'creation', 'security', 'receivable', 'generally'], tags=['Test_4']), TaggedDocument(words=['defaulting', 'lender', 'right', 'approve', 'disapprove', 'amendment', 'waiver', 'consent', 'respect', 'agreement', 'shall', 'restricted', 'set', 'forth', 'de', 'nition', 'required', 'lender'], tags=['Test_5'])]\n"
          ]
        }
      ]
    },
    {
      "cell_type": "code",
      "source": [
        "#we instantiate a doc2vec model — Distributed Bag of Words (DBOW)\n",
        "#building a vocabulary\n",
        "model_dbow = Doc2Vec(dm=0, vector_size=300, negative=5, min_count=1, alpha=0.065, min_alpha=0.065)\n",
        "model_dbow.build_vocab([x for x in tqdm(all_data)])\n",
        "\n",
        "for epoch in range(30):#train for 30 epochs\n",
        "    model_dbow.train(utils.shuffle([x for x in tqdm(all_data)]), total_examples=len(all_data), epochs=1)\n",
        "    model_dbow.alpha -= 0.002\n",
        "    model_dbow.min_alpha = model_dbow.alpha"
      ],
      "metadata": {
        "colab": {
          "base_uri": "https://localhost:8080/"
        },
        "id": "uWdSK2SstTUe",
        "outputId": "c93fbf80-e16f-4efd-a786-7f63c675876c"
      },
      "execution_count": null,
      "outputs": [
        {
          "output_type": "stream",
          "name": "stderr",
          "text": [
            "100%|██████████| 26/26 [00:00<00:00, 159900.15it/s]\n",
            "100%|██████████| 26/26 [00:00<00:00, 203076.17it/s]\n",
            "100%|██████████| 26/26 [00:00<00:00, 26761.20it/s]\n",
            "100%|██████████| 26/26 [00:00<00:00, 186732.71it/s]\n",
            "100%|██████████| 26/26 [00:00<00:00, 164730.97it/s]\n",
            "100%|██████████| 26/26 [00:00<00:00, 161798.08it/s]\n",
            "100%|██████████| 26/26 [00:00<00:00, 179067.17it/s]\n",
            "100%|██████████| 26/26 [00:00<00:00, 151041.42it/s]\n",
            "100%|██████████| 26/26 [00:00<00:00, 183898.66it/s]\n",
            "100%|██████████| 26/26 [00:00<00:00, 158505.67it/s]\n",
            "100%|██████████| 26/26 [00:00<00:00, 193354.44it/s]\n",
            "100%|██████████| 26/26 [00:00<00:00, 179067.17it/s]\n",
            "100%|██████████| 26/26 [00:00<00:00, 184520.99it/s]\n",
            "100%|██████████| 26/26 [00:00<00:00, 201947.97it/s]\n",
            "100%|██████████| 26/26 [00:00<00:00, 178773.61it/s]\n",
            "100%|██████████| 26/26 [00:00<00:00, 132505.35it/s]\n",
            "100%|██████████| 26/26 [00:00<00:00, 181753.17it/s]\n",
            "100%|██████████| 26/26 [00:00<00:00, 194735.54it/s]\n",
            "100%|██████████| 26/26 [00:00<00:00, 75416.25it/s]\n",
            "100%|██████████| 26/26 [00:00<00:00, 237069.36it/s]\n",
            "100%|██████████| 26/26 [00:00<00:00, 163987.83it/s]\n",
            "100%|██████████| 26/26 [00:00<00:00, 204217.05it/s]\n",
            "100%|██████████| 26/26 [00:00<00:00, 166237.66it/s]\n",
            "100%|██████████| 26/26 [00:00<00:00, 247845.24it/s]\n",
            "100%|██████████| 26/26 [00:00<00:00, 208911.69it/s]\n",
            "100%|██████████| 26/26 [00:00<00:00, 142179.80it/s]\n",
            "100%|██████████| 26/26 [00:00<00:00, 155566.20it/s]\n",
            "100%|██████████| 26/26 [00:00<00:00, 8567.87it/s]\n",
            "100%|██████████| 26/26 [00:00<00:00, 171465.26it/s]\n",
            "100%|██████████| 26/26 [00:00<00:00, 196136.52it/s]\n",
            "100%|██████████| 26/26 [00:00<00:00, 194042.53it/s]\n"
          ]
        }
      ]
    },
    {
      "cell_type": "code",
      "source": [
        "#building the final vector features for the classifier\n",
        "def getVectors(model, c_size, v_size, v_type):\n",
        "    vectors = np.zeros((c_size, v_size))\n",
        "    for i in range(0, c_size):\n",
        "        prefix = v_type + '_' + str(i)\n",
        "        vectors[i] = model.docvecs[prefix]\n",
        "    return vectors\n",
        "    \n",
        "train_vectors_dbow = getVectors(model_dbow, len(X_train), 300, 'Train')\n",
        "test_vectors_dbow = getVectors(model_dbow, len(X_test), 300, 'Test')\n",
        "print(test_vectors_dbow)"
      ],
      "metadata": {
        "id": "0oy5dvbAtji3",
        "colab": {
          "base_uri": "https://localhost:8080/"
        },
        "outputId": "bf23ab83-e13c-4a0a-9d01-c0051310059d"
      },
      "execution_count": null,
      "outputs": [
        {
          "output_type": "stream",
          "name": "stdout",
          "text": [
            "[[-0.05004176  0.06987847 -0.00711292 ...  0.02999261 -0.00556256\n",
            "   0.06369469]\n",
            " [-0.07871911  0.08655566  0.00113279 ...  0.04610838  0.00870515\n",
            "   0.09523637]\n",
            " [-0.09353836  0.10623754 -0.00992433 ...  0.05178951  0.01055835\n",
            "   0.09916506]\n",
            " [-0.07809273  0.09517617 -0.00099618 ...  0.04501493  0.01290861\n",
            "   0.08088879]\n",
            " [-0.06771468  0.11035387 -0.00505751 ...  0.06518243 -0.00079662\n",
            "   0.10221663]\n",
            " [-0.05796475  0.07988009 -0.01757224 ...  0.02748345  0.00193572\n",
            "   0.07908166]]\n"
          ]
        }
      ]
    },
    {
      "cell_type": "code",
      "source": [
        "#training the logistic regression model\n",
        "logreg = LogisticRegression(n_jobs=1, C=1e5)\n",
        "logreg.fit(train_vectors_dbow, y_train)\n",
        "logreg = logreg.fit(train_vectors_dbow, y_train)\n",
        "y_pred = logreg.predict(test_vectors_dbow)\n",
        "print('accuracy :', accuracy_score(y_pred, y_test))\n",
        "print(classification_report(y_test, y_pred))\n",
        "\n",
        "print(\"precision: \",precision_score(y_test,y_pred,average='weighted'))\n",
        "print(\"recall: \",recall_score(y_test,y_pred,average='weighted'))\n",
        "print(\"f1 score: \",f1_score(y_test,y_pred,average='weighted'))"
      ],
      "metadata": {
        "colab": {
          "base_uri": "https://localhost:8080/"
        },
        "id": "DrnyGQ6OuGvo",
        "outputId": "8b612cea-f3ce-4656-cf1f-9bd1bfbc84e8"
      },
      "execution_count": null,
      "outputs": [
        {
          "output_type": "stream",
          "name": "stdout",
          "text": [
            "accuracy : 1.0\n",
            "                   precision    recall  f1-score   support\n",
            "\n",
            "    Governing Law       1.00      1.00      1.00         1\n",
            "Lender Defaulting       1.00      1.00      1.00         1\n",
            "            Other       1.00      1.00      1.00         2\n",
            "         Preamble       1.00      1.00      1.00         2\n",
            "\n",
            "         accuracy                           1.00         6\n",
            "        macro avg       1.00      1.00      1.00         6\n",
            "     weighted avg       1.00      1.00      1.00         6\n",
            "\n",
            "precision:  1.0\n",
            "recall:  1.0\n",
            "f1 score:  1.0\n"
          ]
        },
        {
          "output_type": "stream",
          "name": "stderr",
          "text": [
            "/usr/local/lib/python3.7/dist-packages/sklearn/linear_model/_logistic.py:818: ConvergenceWarning: lbfgs failed to converge (status=1):\n",
            "STOP: TOTAL NO. of ITERATIONS REACHED LIMIT.\n",
            "\n",
            "Increase the number of iterations (max_iter) or scale the data as shown in:\n",
            "    https://scikit-learn.org/stable/modules/preprocessing.html\n",
            "Please also refer to the documentation for alternative solver options:\n",
            "    https://scikit-learn.org/stable/modules/linear_model.html#logistic-regression\n",
            "  extra_warning_msg=_LOGISTIC_SOLVER_CONVERGENCE_MSG,\n",
            "/usr/local/lib/python3.7/dist-packages/sklearn/linear_model/_logistic.py:818: ConvergenceWarning: lbfgs failed to converge (status=1):\n",
            "STOP: TOTAL NO. of ITERATIONS REACHED LIMIT.\n",
            "\n",
            "Increase the number of iterations (max_iter) or scale the data as shown in:\n",
            "    https://scikit-learn.org/stable/modules/preprocessing.html\n",
            "Please also refer to the documentation for alternative solver options:\n",
            "    https://scikit-learn.org/stable/modules/linear_model.html#logistic-regression\n",
            "  extra_warning_msg=_LOGISTIC_SOLVER_CONVERGENCE_MSG,\n"
          ]
        }
      ]
    },
    {
      "cell_type": "code",
      "source": [
        "print(y_test,y_pred)\n",
        "conf_mat_d2v = confusion_matrix(y_test, y_pred)\n",
        "fig, ax = plt.subplots(figsize=(5,5))\n",
        "sns.heatmap(conf_mat_d2v, annot=True, cmap=\"Blues\", fmt='d')\n",
        "plt.ylabel('Actual')\n",
        "plt.xlabel('Predicted')\n",
        "plt.title(\"CONFUSION MATRIX - doc2vec Logistic Regression\\n\",size=16);"
      ],
      "metadata": {
        "colab": {
          "base_uri": "https://localhost:8080/",
          "height": 490
        },
        "id": "kMxwt9l1uTv-",
        "outputId": "9835fef0-2729-433d-add7-c68c08eb4787"
      },
      "execution_count": null,
      "outputs": [
        {
          "output_type": "stream",
          "name": "stdout",
          "text": [
            "2         Governing Law\n",
            "20             Preamble\n",
            "14                Other\n",
            "17             Preamble\n",
            "5                 Other\n",
            "11    Lender Defaulting\n",
            "Name: Class, dtype: object ['Governing Law' 'Preamble' 'Other' 'Preamble' 'Other' 'Lender Defaulting']\n"
          ]
        },
        {
          "output_type": "display_data",
          "data": {
            "image/png": "[encoded data removed]",
            "text/plain": [
              "<Figure size 360x360 with 2 Axes>"
            ]
          },
          "metadata": {
            "needs_background": "light"
          }
        }
      ]
    },
    {
      "cell_type": "code",
      "source": [
        ""
      ],
      "metadata": {
        "id": "jHyWcW-Ynqfz"
      },
      "execution_count": null,
      "outputs": []
    },
    {
      "cell_type": "code",
      "source": [
        ""
      ],
      "metadata": {
        "id": "1kftBb_kvQQc"
      },
      "execution_count": null,
      "outputs": []
    },
    {
      "cell_type": "code",
      "source": [
        ""
      ],
      "metadata": {
        "id": "Slc8jahMn_Wk"
      },
      "execution_count": null,
      "outputs": []
    },
    {
      "cell_type": "code",
      "source": [
        ""
      ],
      "metadata": {
        "id": "ep6HxVf0sh6t"
      },
      "execution_count": null,
      "outputs": []
    },
    {
      "cell_type": "code",
      "source": [
        ""
      ],
      "metadata": {
        "id": "43X4baqFsq6S"
      },
      "execution_count": null,
      "outputs": []
    },
    {
      "cell_type": "code",
      "source": [
        ""
      ],
      "metadata": {
        "id": "8XKzznxexw_G"
      },
      "execution_count": null,
      "outputs": []
    },
    {
      "cell_type": "code",
      "source": [
        ""
      ],
      "metadata": {
        "id": "gp7V5rElstKX"
      },
      "execution_count": null,
      "outputs": []
    },
    {
      "cell_type": "code",
      "source": [
        ""
      ],
      "metadata": {
        "id": "4ZJxSV2hxlXq"
      },
      "execution_count": null,
      "outputs": []
    },
    {
      "cell_type": "code",
      "source": [
        ""
      ],
      "metadata": {
        "id": "ByhD0qiXy5u8"
      },
      "execution_count": null,
      "outputs": []
    }
  ]
}